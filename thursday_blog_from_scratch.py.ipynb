{
 "cells": [
  {
   "cell_type": "markdown",
   "id": "c3d872fb",
   "metadata": {},
   "source": [
    "### Create a blog\n",
    "\n",
    "3 objects/classes:\n",
    "- <strong>blog</strong>\n",
    "\n",
    "- <strong>user</strong>\n",
    "    - create new user\n",
    "    - log in\n",
    "- <strong>post</strong>\n",
    "    - title\n",
    "    - body\n",
    "    - author, which is an instance of 'user'"
   ]
  },
  {
   "cell_type": "code",
   "execution_count": 52,
   "id": "50245bbc",
   "metadata": {},
   "outputs": [],
   "source": [
    "class User:\n",
    "    #just keeps track of how many users sign up\n",
    "    id_counter = 1\n",
    "    \n",
    "    def __init__(self, username, password):\n",
    "        self.username = username\n",
    "        self.password = password\n",
    "        self.id = User.id_counter\n",
    "        User.id_counter += 1\n",
    "        \n",
    "    def __str__(self):\n",
    "        return self.username\n",
    "    \n",
    "    def __repr__(self):\n",
    "        return f\"\\n<User: {self.id} | {self.username}>\\n\"\n",
    "    \n",
    "    def check_password(self, password):\n",
    "        #just checks if the password inputted matches the User object's password\n",
    "        return self.password == password\n"
   ]
  },
  {
   "cell_type": "code",
   "execution_count": 58,
   "id": "ba893538",
   "metadata": {},
   "outputs": [],
   "source": [
    "class Post:\n",
    "    id_counter = 1\n",
    "    \n",
    "    def __init__(self, title, body, author):\n",
    "        \"\"\"\n",
    "        title -> string\n",
    "        body -> string\n",
    "        author -> User\n",
    "        \"\"\"\n",
    "        self.title = title\n",
    "        self.body = body\n",
    "        self.author = author\n",
    "        self.id = Post.id_counter\n",
    "        Post.id_counter += 1\n",
    "        \n",
    "    def __str__(self):\n",
    "        #format post\n",
    "        formatted_post = f\"\"\"\n",
    "        {self.id} - {self.title.title()}\n",
    "        By: {self.author}\n",
    "        {self.body}\n",
    "        \"\"\"\n",
    "        return formatted_post\n",
    "    \n",
    "    def __repr__(self):\n",
    "        return f\"<Post {self.id} | {self.title} by {self.author}>\""
   ]
  },
  {
   "cell_type": "code",
   "execution_count": 59,
   "id": "27a44eab",
   "metadata": {},
   "outputs": [
    {
     "data": {
      "text/plain": [
       "True"
      ]
     },
     "execution_count": 59,
     "metadata": {},
     "output_type": "execute_result"
    }
   ],
   "source": [
    "user1 = User('skb', '123')\n",
    "user1.check_password('123')"
   ]
  },
  {
   "cell_type": "code",
   "execution_count": 60,
   "id": "0886654e",
   "metadata": {},
   "outputs": [],
   "source": [
    "class Blog:\n",
    "    \n",
    "    def __init__(self):\n",
    "        self.users = []\n",
    "        self.posts = []\n",
    "        self.current_user = None\n",
    "        \n",
    "    def create_new_user(self):\n",
    "        username = input('Please enter a username. ')\n",
    "        password = input('Please enter a password. ')\n",
    "        new_user = User(username, password)\n",
    "        self.users.append(new_user)\n",
    "        print(f\"\\n{new_user} has been created\\n\")\n",
    "        \n",
    "    def log_in_user(self):\n",
    "        username = input('What is your username? ')\n",
    "        password = input('What is your password? ')\n",
    "        for user in self.users:\n",
    "            if user.username == username and user.check_password(password):\n",
    "                self.current_user = user\n",
    "                print(f\"User, '{user},' has been logged in\\n\")\n",
    "                break\n",
    "            else:\n",
    "                print(\"\\nUsername and/or Password is incorrect\\n\")\n",
    "    \n",
    "    def log_out_user(self):\n",
    "        self.current_user = None\n",
    "        print(\"\\nYou have been successfully logged out.\\n\")\n",
    "    \n",
    "    def create_a_post(self):\n",
    "        if self.current_user is not None:\n",
    "            title = input(\"Enter the title of your post: \").title()\n",
    "            body = input(\"Enter the body of your post: \")\n",
    "            new_post = Post(title, body, self.current_user)\n",
    "            self.posts.append(new_post)\n",
    "            print(f\"\\nYour post, '{new_post.title}' has been created\\n\")\n",
    "        else:\n",
    "            print(\"\\nYou must be logged in to post to this blog.\\n\")\n"
   ]
  },
  {
   "cell_type": "code",
   "execution_count": 61,
   "id": "e97b8a31",
   "metadata": {},
   "outputs": [
    {
     "name": "stdout",
     "output_type": "stream",
     "text": [
      "\n",
      "        1 - First Post\n",
      "        By: skb\n",
      "        body of post\n",
      "        \n"
     ]
    }
   ],
   "source": [
    "user1 = User('skb', '123')\n",
    "post1 = Post('first Post', 'body of post', user1)\n",
    "print(post1)"
   ]
  },
  {
   "cell_type": "code",
   "execution_count": 62,
   "id": "a3f1a695",
   "metadata": {},
   "outputs": [
    {
     "name": "stdout",
     "output_type": "stream",
     "text": [
      "1. Sign Up\n",
      "2. Log In\n",
      "5. Quit\n",
      "What option would you like? 1\n",
      "Please enter a username. skb\n",
      "Please enter a password. 123\n",
      "\n",
      "skb has been created\n",
      "\n",
      "1. Sign Up\n",
      "2. Log In\n",
      "5. Quit\n",
      "What option would you like? 2\n",
      "What is your username? skb\n",
      "What is your password? 123\n",
      "User, 'skb,' has been logged in\n",
      "\n",
      "1. Log Out\n",
      "2. Create a Post\n",
      "What option would you like? 2\n",
      "Enter the title of your post: Hello World\n",
      "Enter the body of your post: I am making a blog.\n",
      "\n",
      "Your post, 'Hello World' has been created\n",
      "\n",
      "1. Log Out\n",
      "2. Create a Post\n",
      "What option would you like? 1\n",
      "\n",
      "You have been successfully logged out.\n",
      "\n",
      "1. Sign Up\n",
      "2. Log In\n",
      "5. Quit\n",
      "What option would you like? 5\n",
      "[<Post 2 | Hello World by skb>]\n",
      "\n",
      "Thanks for checking out our blog!\n",
      "\n"
     ]
    }
   ],
   "source": [
    "def run_blog():\n",
    "    #create an instance of blog\n",
    "    my_blog = Blog()\n",
    "    #keep looping while blog is 'running'\n",
    "    while True:\n",
    "        # set up to know if user is logged in\n",
    "        # if there is currently no user logged in,\n",
    "        if my_blog.current_user is None:\n",
    "            print(\"1. Sign Up\\n2. Log In\\n5. Quit\")\n",
    "            to_do = input(\"What option would you like? \")\n",
    "            while to_do not in {'1', '2', '5'}:\n",
    "                to_do = input (\"Please choose either 1 or 5 \")\n",
    "            if to_do == '5':\n",
    "                print(my_blog.posts)\n",
    "                print(\"\\nThanks for checking out our blog!\\n\")\n",
    "                break\n",
    "            elif to_do == '1':\n",
    "                my_blog.create_new_user()\n",
    "            elif to_do == '2':\n",
    "                my_blog.log_in_user()\n",
    "            else:\n",
    "                print(\"\\nentry invalid\\n\")\n",
    "                break\n",
    "                \n",
    "        else:\n",
    "            print(\"1. Log Out\\n2. Create a Post\")\n",
    "            to_do = input(\"What option would you like? \")\n",
    "            while to_do not in {'1', '2'}:\n",
    "                to_do = input (\"Please choose 1 or 2 \")\n",
    "            if to_do == '1':\n",
    "                my_blog.log_out_user()\n",
    "            elif to_do == '2':\n",
    "                my_blog.create_a_post()\n",
    "                \n",
    "run_blog()"
   ]
  },
  {
   "cell_type": "code",
   "execution_count": null,
   "id": "59a8b479",
   "metadata": {},
   "outputs": [],
   "source": []
  }
 ],
 "metadata": {
  "kernelspec": {
   "display_name": "Python 3 (ipykernel)",
   "language": "python",
   "name": "python3"
  },
  "language_info": {
   "codemirror_mode": {
    "name": "ipython",
    "version": 3
   },
   "file_extension": ".py",
   "mimetype": "text/x-python",
   "name": "python",
   "nbconvert_exporter": "python",
   "pygments_lexer": "ipython3",
   "version": "3.9.7"
  }
 },
 "nbformat": 4,
 "nbformat_minor": 5
}
